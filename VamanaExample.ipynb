{
 "cells": [
  {
   "cell_type": "code",
   "execution_count": 5,
   "metadata": {},
   "outputs": [],
   "source": [
    "from vamana_module import VamanaIndex\n",
    "import numpy as np"
   ]
  },
  {
   "cell_type": "code",
   "execution_count": 18,
   "metadata": {},
   "outputs": [],
   "source": [
    "def plot_hist(my_dict):\n",
    "    import matplotlib.pyplot as plt\n",
    "    fig, ax = plt.subplots()\n",
    "    ax.set_ylabel('Quantity')\n",
    "    ax.set_ylabel('Out degree')\n",
    "    plt.bar(my_dict.keys(),height = my_dict.values())\n",
    "    plt.show()"
   ]
  },
  {
   "cell_type": "markdown",
   "metadata": {},
   "source": [
    "# Toy Example\n",
    "Searching for NN of (6,6,6,..,6) in a dataset of points inside the unit squares with 2 points manually added: (5.9,5.9,...,5.9), (5.11,5.11,...,5.11)"
   ]
  },
  {
   "cell_type": "code",
   "execution_count": 6,
   "metadata": {},
   "outputs": [
    {
     "name": "stdout",
     "output_type": "stream",
     "text": [
      "1002\n",
      "0 0\n",
      "1 0\n",
      "2 1\n",
      "3 1\n",
      "4 0\n",
      "5 0\n",
      "6 0\n",
      "7 2\n",
      "8 3\n",
      "9 8\n",
      "10 9\n",
      "11 18\n",
      "12 35\n",
      "13 33\n",
      "14 61\n",
      "15 42\n",
      "16 60\n",
      "17 56\n",
      "18 58\n",
      "19 81\n",
      "20 66\n",
      "21 72\n",
      "22 53\n",
      "23 49\n",
      "24 53\n",
      "25 39\n",
      "26 21\n",
      "27 38\n",
      "28 23\n",
      "29 25\n",
      "30 19\n",
      "31 13\n",
      "32 13\n",
      "33 9\n",
      "34 10\n",
      "35 8\n",
      "36 7\n",
      "37 4\n",
      "38 4\n",
      "39 2\n",
      "40 6\n",
      "[5.9 5.9 5.9 5.9 5.9 5.9 5.9 5.9 5.9 5.9] 0.3162277660168368\n",
      "[5.11 5.11 5.11 5.11 5.11 5.11 5.11 5.11 5.11 5.11] 2.8144271175498567\n",
      "[0.79803596 0.79179231 0.80399887 0.66533804 0.75865094 0.58502427\n",
      " 0.72952187 0.93333248 0.8975905  0.9518054 ] 16.47435935757755\n"
     ]
    }
   ],
   "source": [
    "R = 40\n",
    "My_index = VamanaIndex()\n",
    "dataset = np.random.default_rng().uniform(0.0,1.0,(1000,10))\n",
    "dataset = np.vstack([dataset,[5.9]*10])\n",
    "dataset = np.vstack([dataset,[5.11]*10])\n",
    "My_index.create(dataset,save_intermediate = False)\n",
    "\n",
    "my_dict ={}\n",
    "for i in range(R+1):\n",
    "    my_dict[i]= 0\n",
    "for i in range(len(dataset)):\n",
    "    my_dict[len(My_index._index[i][1])] +=1\n",
    "for k,v in my_dict.items():\n",
    "    print(k,v)\n",
    "\n",
    "L,V = My_index.search([6]*10,nq = 3)\n",
    "for i in L:\n",
    "    print(My_index._index[i.index][0], i.distance)"
   ]
  },
  {
   "cell_type": "code",
   "execution_count": 19,
   "metadata": {},
   "outputs": [
    {
     "data": {
      "image/png": "[encoded data removed]",
      "text/plain": [
       "<Figure size 640x480 with 1 Axes>"
      ]
     },
     "metadata": {},
     "output_type": "display_data"
    }
   ],
   "source": [
    "plot_hist(my_dict)"
   ]
  }
 ],
 "metadata": {
  "kernelspec": {
   "display_name": "topomap",
   "language": "python",
   "name": "python3"
  },
  "language_info": {
   "codemirror_mode": {
    "name": "ipython",
    "version": 3
   },
   "file_extension": ".py",
   "mimetype": "text/x-python",
   "name": "python",
   "nbconvert_exporter": "python",
   "pygments_lexer": "ipython3",
   "version": "3.10.8"
  }
 },
 "nbformat": 4,
 "nbformat_minor": 2
}
