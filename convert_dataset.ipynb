{
 "cells": [
  {
   "cell_type": "code",
   "execution_count": 1,
   "metadata": {},
   "outputs": [
    {
     "name": "stdout",
     "output_type": "stream",
     "text": [
      "WARNING:tensorflow:From c:\\Users\\felip\\Documents\\Github\\TopoMap\\vamana\\lib\\site-packages\\keras\\src\\losses.py:2976: The name tf.losses.sparse_softmax_cross_entropy is deprecated. Please use tf.compat.v1.losses.sparse_softmax_cross_entropy instead.\n",
      "\n"
     ]
    }
   ],
   "source": [
    "import dataset_utils\n",
    "import numpy as np \n",
    "\n",
    "from ucimlrepo import fetch_ucirepo \n",
    "from keras.datasets import mnist\n",
    "import pandas as pd\n"
   ]
  },
  {
   "cell_type": "markdown",
   "metadata": {},
   "source": [
    "# Iris Dataset"
   ]
  },
  {
   "cell_type": "code",
   "execution_count": 2,
   "metadata": {},
   "outputs": [],
   "source": [
    "iris = fetch_ucirepo(id=53) \n",
    "\n",
    "\n",
    "# data (as pandas dataframes) \n",
    "X = iris.data.features \n",
    "y = iris.data.targets \n",
    "X = X.to_numpy()\n",
    "dataset_utils.fvecs_write(\"fvec_datasets/iris.fvec\", X)"
   ]
  },
  {
   "cell_type": "code",
   "execution_count": 7,
   "metadata": {},
   "outputs": [],
   "source": []
  },
  {
   "cell_type": "markdown",
   "metadata": {},
   "source": [
    "# Seeds"
   ]
  },
  {
   "cell_type": "code",
   "execution_count": 12,
   "metadata": {},
   "outputs": [],
   "source": [
    "data_seeds = pd.read_csv('data/UCI/seeds/seeds_dataset.txt', sep='\\t',\n",
    "                         header=None,\n",
    "                         names=['x1','x2','x3','x4','x5','x6','x7','class'])\n",
    "\n",
    "X = data_seeds.copy().drop(['class'], axis=1)\n",
    "X = X.to_numpy()\n",
    "y = data_seeds[['class']]"
   ]
  },
  {
   "cell_type": "code",
   "execution_count": 14,
   "metadata": {},
   "outputs": [],
   "source": [
    "dataset_utils.fvecs_write(\"fvec_datasets/seeds.fvec\", X)"
   ]
  },
  {
   "cell_type": "markdown",
   "metadata": {},
   "source": [
    "# Cancer"
   ]
  },
  {
   "cell_type": "code",
   "execution_count": 20,
   "metadata": {},
   "outputs": [
    {
     "name": "stderr",
     "output_type": "stream",
     "text": [
      "C:\\Users\\felip\\AppData\\Local\\Temp\\ipykernel_23164\\366605026.py:8: FutureWarning: DataFrame.fillna with 'method' is deprecated and will raise in a future version. Use obj.ffill() or obj.bfill() instead.\n",
      "  X.fillna(method = 'ffill',inplace=True)\n",
      "C:\\Users\\felip\\AppData\\Local\\Temp\\ipykernel_23164\\366605026.py:8: SettingWithCopyWarning: \n",
      "A value is trying to be set on a copy of a slice from a DataFrame\n",
      "\n",
      "See the caveats in the documentation: https://pandas.pydata.org/pandas-docs/stable/user_guide/indexing.html#returning-a-view-versus-a-copy\n",
      "  X.fillna(method = 'ffill',inplace=True)\n"
     ]
    }
   ],
   "source": [
    "# fetch dataset \n",
    "breast_cancer_wisconsin_original = fetch_ucirepo(id=15) \n",
    "\n",
    "# data (as pandas dataframes) \n",
    "X = breast_cancer_wisconsin_original.data.features \n",
    "y = breast_cancer_wisconsin_original.data.targets \n",
    "y_column = 'Class'\n",
    "X.fillna(method = 'ffill',inplace=True)\n",
    "X = X.to_numpy()\n",
    "dataset_utils.fvecs_write(\"fvec_datasets/Cancer.fvec\", X)"
   ]
  },
  {
   "cell_type": "code",
   "execution_count": 6,
   "metadata": {},
   "outputs": [
    {
     "name": "stdout",
     "output_type": "stream",
     "text": [
      "[[ 5.  1.  1. ...  3.  1.  1.]\n",
      " [ 5.  4.  4. ...  3.  2.  1.]\n",
      " [ 3.  1.  1. ...  3.  1.  1.]\n",
      " ...\n",
      " [ 5. 10. 10. ...  8. 10.  2.]\n",
      " [ 4.  8.  6. ... 10.  6.  1.]\n",
      " [ 4.  8.  8. ... 10.  4.  1.]]\n",
      "[[ 5.  1.  1. ...  3.  1.  1.]\n",
      " [ 5.  4.  4. ...  3.  2.  1.]\n",
      " [ 3.  1.  1. ...  3.  1.  1.]\n",
      " ...\n",
      " [ 5. 10. 10. ...  8. 10.  2.]\n",
      " [ 4.  8.  6. ... 10.  6.  1.]\n",
      " [ 4.  8.  8. ... 10.  4.  1.]]\n",
      "0\n"
     ]
    },
    {
     "name": "stderr",
     "output_type": "stream",
     "text": [
      "C:\\Users\\felip\\AppData\\Local\\Temp\\ipykernel_22668\\1543715793.py:10: FutureWarning: DataFrame.fillna with 'method' is deprecated and will raise in a future version. Use obj.ffill() or obj.bfill() instead.\n",
      "  X.fillna(method = 'ffill',inplace=True)\n",
      "C:\\Users\\felip\\AppData\\Local\\Temp\\ipykernel_22668\\1543715793.py:10: SettingWithCopyWarning: \n",
      "A value is trying to be set on a copy of a slice from a DataFrame\n",
      "\n",
      "See the caveats in the documentation: https://pandas.pydata.org/pandas-docs/stable/user_guide/indexing.html#returning-a-view-versus-a-copy\n",
      "  X.fillna(method = 'ffill',inplace=True)\n"
     ]
    }
   ],
   "source": [
    "# fetch dataset \n",
    "import dataset_utils\n",
    "from dataset_utils import fvecs_read\n",
    "breast_cancer_wisconsin_original = fetch_ucirepo(id=15) \n",
    "\n",
    "# data (as pandas dataframes) \n",
    "X = breast_cancer_wisconsin_original.data.features \n",
    "y = breast_cancer_wisconsin_original.data.targets \n",
    "y_column = 'Class'\n",
    "X.fillna(method = 'ffill',inplace=True)\n",
    "X = X.to_numpy()\n",
    "\n",
    "Cancer_fvec = dataset_utils.fvecs_read(\"./fvec_datasets/Cancer.fvec\")\n"
   ]
  },
  {
   "cell_type": "markdown",
   "metadata": {},
   "source": [
    "# mfeat\n"
   ]
  },
  {
   "cell_type": "code",
   "execution_count": 25,
   "metadata": {},
   "outputs": [],
   "source": [
    "data_mfeat = pd.read_csv('data/UCI/multiple+features/mfeat-kar', sep='\\s+',\n",
    "                         header=None,\n",
    "                         names=['x'+str(i) for i in range(1,65)])\n",
    "data_mfeat['class'] = 0\n",
    "for i, row in data_mfeat.iterrows():\n",
    "    data_mfeat.loc[i,'class'] = i//200\n",
    "\n",
    "X = data_mfeat.drop(['class'], axis=1)\n",
    "y = data_mfeat[['class']]\n",
    "X = X.to_numpy()\n",
    "dataset_utils.fvecs_write(\"fvec_datasets/mfeat.fvec\", X)"
   ]
  },
  {
   "cell_type": "markdown",
   "metadata": {},
   "source": [
    "# Mnist"
   ]
  },
  {
   "cell_type": "code",
   "execution_count": 31,
   "metadata": {},
   "outputs": [],
   "source": [
    "(train_X, train_y), (test_X, test_y) = mnist.load_data()\n",
    "\n",
    "train_X = train_X.reshape(-1,28*28)\n",
    "dataset_utils.fvecs_write(\"fvec_datasets/mnist.fvec\",train_X)"
   ]
  }
 ],
 "metadata": {
  "kernelspec": {
   "display_name": "vamana",
   "language": "python",
   "name": "python3"
  },
  "language_info": {
   "codemirror_mode": {
    "name": "ipython",
    "version": 3
   },
   "file_extension": ".py",
   "mimetype": "text/x-python",
   "name": "python",
   "nbconvert_exporter": "python",
   "pygments_lexer": "ipython3",
   "version": "3.10.8"
  }
 },
 "nbformat": 4,
 "nbformat_minor": 2
}
