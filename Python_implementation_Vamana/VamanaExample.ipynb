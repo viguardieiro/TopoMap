{
 "cells": [
  {
   "cell_type": "code",
   "execution_count": 7,
   "metadata": {},
   "outputs": [],
   "source": [
    "from vamana_module import VamanaIndex\n",
    "import numpy as np\n",
    "from scipy.spatial.distance import pdist, squareform\n",
    "from scipy.sparse.csgraph import minimum_spanning_tree\n",
    "import time"
   ]
  },
  {
   "cell_type": "code",
   "execution_count": 2,
   "metadata": {},
   "outputs": [],
   "source": [
    "def plot_hist(my_dict):\n",
    "    import matplotlib.pyplot as plt\n",
    "    fig, ax = plt.subplots()\n",
    "    ax.set_ylabel('Quantity')\n",
    "    ax.set_ylabel('Out degree')\n",
    "    plt.bar(my_dict.keys(),height = my_dict.values())\n",
    "    plt.show()"
   ]
  },
  {
   "cell_type": "markdown",
   "metadata": {},
   "source": [
    "# Toy Example\n",
    "Searching for NN of (6,6,6,..,6) in a dataset of points inside the unit squares with 2 points manually added: (5.9,5.9,...,5.9), (5.11,5.11,...,5.11)"
   ]
  },
  {
   "cell_type": "code",
   "execution_count": 8,
   "metadata": {},
   "outputs": [
    {
     "name": "stdout",
     "output_type": "stream",
     "text": [
      "time to create vamana Index:30.58739161491394\n",
      "time to create MST from vamana index:0.1017768383026123\n",
      "time to create MST from scratch:0.20035099983215332\n",
      "[5.9 5.9 5.9 5.9 5.9 5.9 5.9 5.9 5.9 5.9] 0.3162277660168368\n",
      "[5.11 5.11 5.11 5.11 5.11 5.11 5.11 5.11 5.11 5.11] 2.8144271175498567\n",
      "[0.45622067 0.59537239 0.87006932 0.98431503 0.90839098 0.89900698\n",
      " 0.42521407 0.9643795  0.54766732 0.97471945] 16.57644333960825\n"
     ]
    }
   ],
   "source": [
    "R = 40\n",
    "My_index = VamanaIndex()\n",
    "dataset = np.random.default_rng().uniform(0.0,1.0,(1000,10))\n",
    "dataset = np.vstack([dataset,[5.9]*10])\n",
    "dataset = np.vstack([dataset,[5.11]*10])\n",
    "\n",
    "start = time.time()\n",
    "\n",
    "My_index.create(dataset)\n",
    "end = time.time()\n",
    "print(f'time to create vamana Index:{end - start}')\n",
    "start = time.time()\n",
    "adj = My_index.get_adj_matrix()\n",
    "\n",
    "mst_vamana = minimum_spanning_tree(adj).toarray()\n",
    "\n",
    "end = time.time()\n",
    "print(f'time to create MST from vamana index:{end - start}')\n",
    "\n",
    "\n",
    "start = time.time()\n",
    "dists = squareform(pdist(dataset))\n",
    "mst = minimum_spanning_tree(dists).toarray()\n",
    "end = time.time()\n",
    "print(f'time to create MST from scratch:{end - start}')\n",
    "my_dict ={}\n",
    "for i in range(R+1):\n",
    "    my_dict[i]= 0\n",
    "for i in range(len(dataset)):\n",
    "    my_dict[len(My_index._index[i][1])] +=1\n",
    "\n",
    "L,V = My_index.search([6]*10,nq = 3)\n",
    "for i in L:\n",
    "    print(My_index._index[i.index][0], i.distance)\n",
    "\n",
    "\n"
   ]
  },
  {
   "cell_type": "code",
   "execution_count": 5,
   "metadata": {},
   "outputs": [
    {
     "data": {
      "image/png": "[encoded data removed]",
      "text/plain": [
       "<Figure size 640x480 with 1 Axes>"
      ]
     },
     "metadata": {},
     "output_type": "display_data"
    }
   ],
   "source": [
    "plot_hist(my_dict)"
   ]
  },
  {
   "cell_type": "code",
   "execution_count": 9,
   "metadata": {},
   "outputs": [
    {
     "name": "stdout",
     "output_type": "stream",
     "text": [
      "1002\n"
     ]
    }
   ],
   "source": [
    "print(adj.shape[0])"
   ]
  }
 ],
 "metadata": {
  "kernelspec": {
   "display_name": "topomap",
   "language": "python",
   "name": "python3"
  },
  "language_info": {
   "codemirror_mode": {
    "name": "ipython",
    "version": 3
   },
   "file_extension": ".py",
   "mimetype": "text/x-python",
   "name": "python",
   "nbconvert_exporter": "python",
   "pygments_lexer": "ipython3",
   "version": "3.10.8"
  }
 },
 "nbformat": 4,
 "nbformat_minor": 2
}
