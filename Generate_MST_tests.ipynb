{
 "cells": [
  {
   "cell_type": "code",
   "execution_count": 3,
   "metadata": {},
   "outputs": [
    {
     "name": "stdout",
     "output_type": "stream",
     "text": [
      "--\n",
      "--Sparse adj matrix computed in 27.48433566093445\n",
      "MST computed in  0.9148998260498047\n",
      "  (0, 11970)\t219.8567657470703\n",
      "  (0, 28818)\t260.5072021484375\n",
      "  (1, 70310)\t216.3839111328125\n",
      "  (1, 56713)\t270.920654296875\n",
      "  (1, 2060)\t261.5626220703125\n",
      "  (2, 9783)\t209.32749938964844\n",
      "  (2, 25540)\t235.0616912841797\n",
      "  (2, 53790)\t252.92884826660156\n",
      "  (2, 44287)\t255.39773559570312\n",
      "  (3, 47660)\t174.0287322998047\n",
      "  (3, 98318)\t178.1572265625\n",
      "  (3, 78758)\t230.63174438476562\n",
      "  (4, 30815)\t215.79852294921875\n",
      "  (5, 7423)\t224.61744689941406\n",
      "  (5, 42939)\t235.1637725830078\n",
      "  (5, 85753)\t240.9771728515625\n",
      "  (5, 30513)\t280.06427001953125\n",
      "  (6, 4039)\t264.9396057128906\n",
      "  (6, 55356)\t292.0873107910156\n",
      "  (7, 45244)\t208.3338623046875\n",
      "  (7, 43614)\t225.49722290039062\n",
      "  (7, 18006)\t252.30735778808594\n",
      "  (7, 47539)\t265.10186767578125\n",
      "  (8, 25457)\t192.2732391357422\n",
      "  (9, 55382)\t236.70022583007812\n",
      "  :\t:\n",
      "  (99689, 99808)\t166.27085876464844\n",
      "  (99689, 99868)\t162.35147094726562\n",
      "  (99693, 99731)\t200.0999755859375\n",
      "  (99697, 99917)\t125.98809814453125\n",
      "  (99707, 99790)\t125.03599548339844\n",
      "  (99721, 99852)\t74.86654663085938\n",
      "  (99756, 99882)\t124.18534851074219\n",
      "  (99768, 99795)\t25.2586612701416\n",
      "  (99770, 99881)\t117.62652587890625\n",
      "  (99770, 99912)\t84.92938232421875\n",
      "  (99772, 99824)\t256.5540771484375\n",
      "  (99773, 99989)\t253.07705688476562\n",
      "  (99796, 99900)\t238.8828125\n",
      "  (99798, 99821)\t80.53570556640625\n",
      "  (99799, 99804)\t117.0299072265625\n",
      "  (99806, 99817)\t114.12274169921875\n",
      "  (99808, 99869)\t128.49513244628906\n",
      "  (99808, 99871)\t134.81468200683594\n",
      "  (99834, 99861)\t124.10882568359375\n",
      "  (99858, 99894)\t97.38583374023438\n",
      "  (99861, 99979)\t87.96022033691406\n",
      "  (99864, 99945)\t158.79861450195312\n",
      "  (99879, 99981)\t61.91122817993164\n",
      "  (99950, 99968)\t239.48486328125\n",
      "  (99987, 99994)\t195.52493286132812\n",
      "99765\n",
      "<class 'scipy.sparse._csr.csr_matrix'>\n"
     ]
    },
    {
     "data": {
      "text/plain": [
       "<100000x100000 sparse matrix of type '<class 'numpy.float64'>'\n",
       "\twith 99765 stored elements in Compressed Sparse Row format>"
      ]
     },
     "execution_count": 3,
     "metadata": {},
     "output_type": "execute_result"
    }
   ],
   "source": [
    "import dataset_utils\n",
    "from dataset_utils import Index_read, Compute_adj_matrix, Compute_MST_from_adj\n",
    "import numpy as np\n",
    "import time\n",
    "path = \"./data/index_sift_learn_R64_L100_A1.2\"\n",
    "adj_dict = dataset_utils.Index_read(path)\n",
    "\n",
    "print(\"--\")\n",
    "start = time.time()\n",
    "sparse_adj_matrix = dataset_utils.Compute_adj_matrix(adj_dict,\"fvec_datasets/sift_learn.fvecs\")\n",
    "end = time.time()\n",
    "print(\"--Sparse adj matrix computed in\", end - start)\n",
    "# ngb = adj_dict[32][0]\n",
    "# print(f\"Distance between 32 and {ngb} from adj_matrix:\",sparse_adj_matrix[32,ngb])\n",
    "# input = dataset_utils.fvecs_read(\"fvec_datasets/sift_learn.fvecs\")\n",
    "# print(f\"Distance between 32 and {ngb} from input:\",np.linalg.norm(input[32,:] - input[ngb,:]))\n",
    "\n",
    "start = time.time()\n",
    "MST = dataset_utils.Compute_MST_from_adj(sparse_adj_matrix)\n",
    "end = time.time()\n",
    "print(\"MST computed in \", end - start)\n",
    "\n",
    "\n",
    "\n",
    "print(f'non-zero edges {MST.size}')\n",
    "\n",
    "\n",
    "#requires 74.5 GiB to dense\n",
    "#print(MST.todense())\n",
    "\n",
    "\n"
   ]
  },
  {
   "cell_type": "code",
   "execution_count": 10,
   "metadata": {},
   "outputs": [
    {
     "name": "stdout",
     "output_type": "stream",
     "text": [
      "--\n",
      "--Sparse adj matrix computed in 0.05510759353637695\n",
      "MST computed in  0.00099945068359375\n",
      "non-zero edges 459\n",
      "trying with dense from sparse\n"
     ]
    },
    {
     "data": {
      "text/plain": [
       "<699x699 sparse matrix of type '<class 'numpy.float64'>'\n",
       "\twith 698 stored elements in Compressed Sparse Row format>"
      ]
     },
     "execution_count": 10,
     "metadata": {},
     "output_type": "execute_result"
    }
   ],
   "source": [
    "import dataset_utils\n",
    "from dataset_utils import Index_read, Compute_adj_matrix, Compute_MST_from_adj,fvecs_read\n",
    "from scipy.spatial.distance import pdist, squareform\n",
    "from scipy.sparse.csgraph import minimum_spanning_tree\n",
    "import numpy as np\n",
    "import time\n",
    "path = \"./data/index_Cancer_R64_L100_A1.2\"\n",
    "adj_dict = dataset_utils.Index_read(path)\n",
    "\n",
    "print(\"--\")\n",
    "start = time.time()\n",
    "sparse_adj_matrix = dataset_utils.Compute_adj_matrix(adj_dict,\"fvec_datasets/Cancer.fvec\")\n",
    "end = time.time()\n",
    "print(\"--Sparse adj matrix computed in\", end - start)\n",
    "# ngb = adj_dict[32][0]\n",
    "# print(f\"Distance between 32 and {ngb} from adj_matrix:\",sparse_adj_matrix[32,ngb])\n",
    "# input = dataset_utils.fvecs_read(\"fvec_datasets/sift_learn.fvecs\")\n",
    "# print(f\"Distance between 32 and {ngb} from input:\",np.linalg.norm(input[32,:] - input[ngb,:]))\n",
    "\n",
    "start = time.time()\n",
    "MST = dataset_utils.Compute_MST_from_adj(sparse_adj_matrix)\n",
    "end = time.time()\n",
    "print(\"MST computed in \", end - start)\n",
    "\n",
    "\n",
    "\n",
    "print(f'non-zero edges {MST.size}')\n",
    "\n",
    "\n",
    "print(\"trying with dense from sparse\")\n",
    "\n",
    "start = time.time()\n",
    "MST = dataset_utils.Compute_MST_from_adj(sparse_adj_matrix.todense())\n",
    "end = time.time()\n",
    "MST\n",
    "\n",
    "#inconsistence! Running with sparse matrix results in a florest instead of a tree\n",
    "\n",
    "#requires 74.5 GiB to dense\n",
    "#print(MST.todense())\n",
    "\n",
    "\n"
   ]
  },
  {
   "cell_type": "code",
   "execution_count": 7,
   "metadata": {},
   "outputs": [
    {
     "name": "stdout",
     "output_type": "stream",
     "text": [
      "--dense adj matrix computed in 0.004340410232543945\n",
      "dense MST computed in  0.004340410232543945\n",
      "(699, 699)\n"
     ]
    }
   ],
   "source": [
    "import dataset_utils\n",
    "from dataset_utils import Index_read, Compute_adj_matrix, Compute_MST_from_adj,fvecs_read\n",
    "from scipy.spatial.distance import pdist, squareform\n",
    "from scipy.sparse.csgraph import minimum_spanning_tree\n",
    "import numpy as np\n",
    "import time\n",
    "\n",
    "input = dataset_utils.fvecs_read(\"fvec_datasets/Cancer.fvec\")\n",
    "start = time.time()\n",
    "dists = squareform(pdist(input))\n",
    "end = time.time()\n",
    "print(\"--dense adj matrix computed in\", end - start)\n",
    "mst = minimum_spanning_tree(dists).toarray()\n",
    "print(\"dense MST computed in \", end - start)\n",
    "print(mst.shape)"
   ]
  },
  {
   "cell_type": "code",
   "execution_count": null,
   "metadata": {},
   "outputs": [],
   "source": []
  }
 ],
 "metadata": {
  "kernelspec": {
   "display_name": "vamana",
   "language": "python",
   "name": "python3"
  },
  "language_info": {
   "codemirror_mode": {
    "name": "ipython",
    "version": 3
   },
   "file_extension": ".py",
   "mimetype": "text/x-python",
   "name": "python",
   "nbconvert_exporter": "python",
   "pygments_lexer": "ipython3",
   "version": "3.10.8"
  }
 },
 "nbformat": 4,
 "nbformat_minor": 2
}
